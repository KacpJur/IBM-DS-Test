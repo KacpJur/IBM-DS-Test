{
 "cells": [
  {
   "cell_type": "markdown",
   "id": "c33ce9a6-9398-4aa0-b0c1-064774746080",
   "metadata": {},
   "source": [
    "# Data Science Tools and Ecosystem"
   ]
  },
  {
   "cell_type": "markdown",
   "id": "305bd8e8-9405-4ade-8bda-a95d11090205",
   "metadata": {},
   "source": [
    "In this notebook, Data Science Tools and Ecosystem are summarized."
   ]
  },
  {
   "cell_type": "markdown",
   "id": "33cbe5f6-ddc4-4e9f-9cdf-8dce456e4b85",
   "metadata": {},
   "source": [
    "### Some of the popular languages that Data Scientists use are:\n",
    "1. Python\n",
    "2. R\n",
    "3. Julia"
   ]
  },
  {
   "cell_type": "markdown",
   "id": "5debcd40-7a73-42d9-80dd-1c909005f1ab",
   "metadata": {},
   "source": [
    "### Some of the commonly used libraries used by Data Scientists include:\n",
    "1. tensorflow\n",
    "2. Pandas\n",
    "3. NumPy"
   ]
  },
  {
   "cell_type": "markdown",
   "id": "865cf98b-f990-49e1-87c3-fc6b7a74359a",
   "metadata": {
    "tags": []
   },
   "source": [
    "|Tools|\n",
    "|---|\n",
    "|Flink|\n",
    "|Python|\n",
    "|Node-Red|\n",
    "|Apache Spark|\n",
    "|Jupyter Notebook|\n",
    "|R|\n"
   ]
  },
  {
   "cell_type": "markdown",
   "id": "9303a4f9-4ad6-4741-9a53-802c2fb7dd32",
   "metadata": {},
   "source": [
    "### Below are a few examples of evaluating arithmetic expressions in Python"
   ]
  },
  {
   "cell_type": "code",
   "execution_count": 7,
   "id": "9c7fa09b-8bb0-42f7-b930-b81529ceb488",
   "metadata": {
    "tags": []
   },
   "outputs": [
    {
     "data": {
      "text/plain": [
       "17"
      ]
     },
     "execution_count": 7,
     "metadata": {},
     "output_type": "execute_result"
    }
   ],
   "source": [
    "(3*4)+5  #This a simple arithmetic expression to mutiply then add integers"
   ]
  },
  {
   "cell_type": "code",
   "execution_count": 8,
   "id": "54c8d2cd-93bd-4a70-b67c-1be074e22324",
   "metadata": {
    "tags": []
   },
   "outputs": [
    {
     "data": {
      "text/plain": [
       "3.3333333333333335"
      ]
     },
     "execution_count": 8,
     "metadata": {},
     "output_type": "execute_result"
    }
   ],
   "source": [
    "200/60 #This will convert 200 minutes to hours by diving by 60"
   ]
  },
  {
   "cell_type": "markdown",
   "id": "89c4e003-8c7c-4a2a-8cbf-207563e1711c",
   "metadata": {
    "tags": []
   },
   "source": [
    "**Objectives:**\n",
    "- List popular languages for Data Science\n",
    "- arithmetic expressions \n",
    "- makrdown creating \n"
   ]
  },
  {
   "cell_type": "markdown",
   "id": "94db219a-ad25-42fb-91b7-63dcde7577c6",
   "metadata": {},
   "source": [
    "## Author\n",
    "Kacper"
   ]
  },
  {
   "cell_type": "code",
   "execution_count": null,
   "id": "6983713a-8482-4352-a048-0c6860bfb87d",
   "metadata": {},
   "outputs": [],
   "source": []
  }
 ],
 "metadata": {
  "kernelspec": {
   "display_name": "Python",
   "language": "python",
   "name": "conda-env-python-py"
  },
  "language_info": {
   "codemirror_mode": {
    "name": "ipython",
    "version": 3
   },
   "file_extension": ".py",
   "mimetype": "text/x-python",
   "name": "python",
   "nbconvert_exporter": "python",
   "pygments_lexer": "ipython3",
   "version": "3.7.12"
  }
 },
 "nbformat": 4,
 "nbformat_minor": 5
}
